{
  "nbformat": 4,
  "nbformat_minor": 0,
  "metadata": {
    "colab": {
      "provenance": [],
      "authorship_tag": "ABX9TyM2F9tXYwSqbWX5JD+MJogW",
      "include_colab_link": true
    },
    "kernelspec": {
      "name": "python3",
      "display_name": "Python 3"
    },
    "language_info": {
      "name": "python"
    }
  },
  "cells": [
    {
      "cell_type": "markdown",
      "metadata": {
        "id": "view-in-github",
        "colab_type": "text"
      },
      "source": [
        "<a href=\"https://colab.research.google.com/github/Sankarrao9398/11-07-25-Operators/blob/main/10_07_25.ipynb\" target=\"_parent\"><img src=\"https://colab.research.google.com/assets/colab-badge.svg\" alt=\"Open In Colab\"/></a>"
      ]
    },
    {
      "cell_type": "code",
      "execution_count": 1,
      "metadata": {
        "colab": {
          "base_uri": "https://localhost:8080/",
          "height": 0
        },
        "id": "6Id5YcRQCcDq",
        "outputId": "bf0d64cf-6d8a-4d9e-f23f-ad329085c8fc"
      },
      "outputs": [
        {
          "output_type": "stream",
          "name": "stdout",
          "text": [
            "(1, 2, 3)\n"
          ]
        }
      ],
      "source": [
        "t = (1, 2, 3)\n",
        "print(t)\n"
      ]
    },
    {
      "cell_type": "markdown",
      "source": [
        "2. Tuple with Mixed Data Types\n",
        "\n"
      ],
      "metadata": {
        "id": "pptRtDlsClIe"
      }
    },
    {
      "cell_type": "code",
      "source": [
        "t = (101, \"Ravi\", 45.6, True)\n",
        "print(t)"
      ],
      "metadata": {
        "colab": {
          "base_uri": "https://localhost:8080/",
          "height": 0
        },
        "id": "JmGxjZhcCvaw",
        "outputId": "bfd70e1d-1225-41db-8a3d-04ca6fdde340"
      },
      "execution_count": 2,
      "outputs": [
        {
          "output_type": "stream",
          "name": "stdout",
          "text": [
            "(101, 'Ravi', 45.6, True)\n"
          ]
        }
      ]
    },
    {
      "cell_type": "markdown",
      "source": [
        "\n",
        "3. Accessing Tuple Elements (Indexing)\n",
        "Use index numbers to access elements.\n"
      ],
      "metadata": {
        "id": "N_TU895ZC0EG"
      }
    },
    {
      "cell_type": "code",
      "source": [
        "t = (10, 20, 30)\n",
        "print(t[1])\n"
      ],
      "metadata": {
        "colab": {
          "base_uri": "https://localhost:8080/",
          "height": 0
        },
        "id": "Ry_-WBzWDxTQ",
        "outputId": "d0547f8f-dfd4-44eb-b8ed-7e78b92fb214"
      },
      "execution_count": 3,
      "outputs": [
        {
          "output_type": "stream",
          "name": "stdout",
          "text": [
            "20\n"
          ]
        }
      ]
    },
    {
      "cell_type": "markdown",
      "source": [
        "Slicing Tuples"
      ],
      "metadata": {
        "id": "bdeV5PGOD8Bu"
      }
    },
    {
      "cell_type": "code",
      "source": [
        "t = (1, 2, 3, 4, 5)\n",
        "print(t[1:4])"
      ],
      "metadata": {
        "colab": {
          "base_uri": "https://localhost:8080/",
          "height": 0
        },
        "id": "N2oimJpaEJc1",
        "outputId": "00c82e6c-43f1-417b-fbfc-bd23babd526e"
      },
      "execution_count": 4,
      "outputs": [
        {
          "output_type": "stream",
          "name": "stdout",
          "text": [
            "(2, 3, 4)\n"
          ]
        }
      ]
    },
    {
      "cell_type": "markdown",
      "source": [
        "5. Immutability"
      ],
      "metadata": {
        "id": "NWKBgSS5EQ_L"
      }
    },
    {
      "cell_type": "code",
      "source": [
        "t = (1, 2, 3)\n"
      ],
      "metadata": {
        "id": "23mCC_rzEQag"
      },
      "execution_count": 5,
      "outputs": []
    },
    {
      "cell_type": "code",
      "source": [
        "t\n"
      ],
      "metadata": {
        "colab": {
          "base_uri": "https://localhost:8080/",
          "height": 0
        },
        "id": "ga_7jME6EeTM",
        "outputId": "345ef86f-8d21-4f97-8637-0d8572a1778a"
      },
      "execution_count": 6,
      "outputs": [
        {
          "output_type": "execute_result",
          "data": {
            "text/plain": [
              "(1, 2, 3)"
            ]
          },
          "metadata": {},
          "execution_count": 6
        }
      ]
    },
    {
      "cell_type": "markdown",
      "source": [
        " 6. Looping through a Tuple\n",
        "Use a for loop to iterate over elements.\n"
      ],
      "metadata": {
        "id": "jic3EIFpEg_G"
      }
    },
    {
      "cell_type": "code",
      "source": [
        "t = (\"apple\", \"banana\", \"cherry\")\n",
        "for fruit in t:\n",
        "    print(fruit)"
      ],
      "metadata": {
        "colab": {
          "base_uri": "https://localhost:8080/",
          "height": 0
        },
        "id": "tQj_AFz-ElIc",
        "outputId": "25003355-de5a-40d9-a25c-9a408999882f"
      },
      "execution_count": 7,
      "outputs": [
        {
          "output_type": "stream",
          "name": "stdout",
          "text": [
            "apple\n",
            "banana\n",
            "cherry\n"
          ]
        }
      ]
    },
    {
      "cell_type": "markdown",
      "source": [
        "\n",
        "7. Tuple Length"
      ],
      "metadata": {
        "id": "__GsNY9HEplu"
      }
    },
    {
      "cell_type": "code",
      "source": [
        "t = (10, 20, 30)\n",
        "print(len(t))"
      ],
      "metadata": {
        "colab": {
          "base_uri": "https://localhost:8080/",
          "height": 0
        },
        "id": "eDLwHUhSEs0Y",
        "outputId": "72a297a0-c5f6-467f-bf23-12b8dbc94dde"
      },
      "execution_count": 8,
      "outputs": [
        {
          "output_type": "stream",
          "name": "stdout",
          "text": [
            "3\n"
          ]
        }
      ]
    }
  ]
}
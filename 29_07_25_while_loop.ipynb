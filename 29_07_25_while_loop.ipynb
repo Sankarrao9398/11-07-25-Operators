{
  "nbformat": 4,
  "nbformat_minor": 0,
  "metadata": {
    "colab": {
      "provenance": [],
      "authorship_tag": "ABX9TyPfakM/uoyOFczIotgKqWu2",
      "include_colab_link": true
    },
    "kernelspec": {
      "name": "python3",
      "display_name": "Python 3"
    },
    "language_info": {
      "name": "python"
    }
  },
  "cells": [
    {
      "cell_type": "markdown",
      "metadata": {
        "id": "view-in-github",
        "colab_type": "text"
      },
      "source": [
        "<a href=\"https://colab.research.google.com/github/Sankarrao9398/11-07-25-Operators/blob/main/29_07_25_while_loop.ipynb\" target=\"_parent\"><img src=\"https://colab.research.google.com/assets/colab-badge.svg\" alt=\"Open In Colab\"/></a>"
      ]
    },
    {
      "cell_type": "markdown",
      "source": [
        "python program to iterate a number without using type conversion\n"
      ],
      "metadata": {
        "id": "P5IKlQnvurEn"
      }
    },
    {
      "cell_type": "code",
      "execution_count": 1,
      "metadata": {
        "colab": {
          "base_uri": "https://localhost:8080/",
          "height": 0
        },
        "id": "E-928SLIugAT",
        "outputId": "7f2bc884-3d89-49e8-d2be-8271e0408181"
      },
      "outputs": [
        {
          "output_type": "stream",
          "name": "stdout",
          "text": [
            "enter a number1234\n",
            "4\n",
            "3\n",
            "2\n",
            "1\n"
          ]
        }
      ],
      "source": [
        "n=int(input(\"enter a number\"))\n",
        "while n>0:\n",
        "  digit=n%10\n",
        "  print(digit)\n",
        "  n=n//10"
      ]
    },
    {
      "cell_type": "markdown",
      "source": [
        "program to print sum of digits in a number\n"
      ],
      "metadata": {
        "id": "klyS2cL-vEUl"
      }
    },
    {
      "cell_type": "code",
      "source": [
        "n=int(input(\"enter a number\"))\n",
        "sum=0\n",
        "while n>0:\n",
        "  digit=n%10\n",
        "  print(digit)\n",
        "  sum=sum+digit\n",
        "  n=n//10\n",
        "print(sum)"
      ],
      "metadata": {
        "colab": {
          "base_uri": "https://localhost:8080/",
          "height": 0
        },
        "id": "-qpifVc4vKT0",
        "outputId": "2f086c67-cda0-4d5d-fb15-54037af116fb"
      },
      "execution_count": 3,
      "outputs": [
        {
          "output_type": "stream",
          "name": "stdout",
          "text": [
            "enter a number1234\n",
            "4\n",
            "3\n",
            "2\n",
            "1\n",
            "10\n"
          ]
        }
      ]
    },
    {
      "cell_type": "markdown",
      "source": [
        "write a python program to print number of digits in a number\n"
      ],
      "metadata": {
        "id": "HZQHerMKvZqI"
      }
    },
    {
      "cell_type": "code",
      "source": [
        "n=int(input(\"enter a number\"))\n",
        "count=0\n",
        "while n>0:\n",
        "  count=count+1\n",
        "  n=n//10\n",
        "print(count)"
      ],
      "metadata": {
        "colab": {
          "base_uri": "https://localhost:8080/",
          "height": 0
        },
        "id": "En79Wd8ivgz2",
        "outputId": "c136d4d3-38bd-4468-d3d2-d43f542944db"
      },
      "execution_count": 4,
      "outputs": [
        {
          "output_type": "stream",
          "name": "stdout",
          "text": [
            "enter a number1234\n",
            "4\n"
          ]
        }
      ]
    },
    {
      "cell_type": "markdown",
      "source": [
        "python program to print 10-1 using while Loop\n",
        "\n",
        "\n"
      ],
      "metadata": {
        "id": "K6ReYkPov1se"
      }
    },
    {
      "cell_type": "code",
      "source": [
        "n=10\n",
        "while n>=1:\n",
        "  print(n)\n",
        "  n=n-1"
      ],
      "metadata": {
        "colab": {
          "base_uri": "https://localhost:8080/",
          "height": 0
        },
        "id": "sqyUeZ6LvZE5",
        "outputId": "6f6916c1-221e-411a-c42a-ce0afe1e1582"
      },
      "execution_count": 5,
      "outputs": [
        {
          "output_type": "stream",
          "name": "stdout",
          "text": [
            "10\n",
            "9\n",
            "8\n",
            "7\n",
            "6\n",
            "5\n",
            "4\n",
            "3\n",
            "2\n",
            "1\n"
          ]
        }
      ]
    },
    {
      "cell_type": "markdown",
      "source": [
        "python program to print -10 to -1 using while Loop"
      ],
      "metadata": {
        "id": "iya-w-8bwJtR"
      }
    },
    {
      "cell_type": "code",
      "source": [
        "n=-10\n",
        "while n<=-1:\n",
        "  print(n)\n",
        "  n=n+1"
      ],
      "metadata": {
        "colab": {
          "base_uri": "https://localhost:8080/",
          "height": 0
        },
        "id": "IEc103z0wMig",
        "outputId": "052ea929-de88-4192-e4a5-d69f7ded859f"
      },
      "execution_count": 8,
      "outputs": [
        {
          "output_type": "stream",
          "name": "stdout",
          "text": [
            "-10\n",
            "-9\n",
            "-8\n",
            "-7\n",
            "-6\n",
            "-5\n",
            "-4\n",
            "-3\n",
            "-2\n",
            "-1\n"
          ]
        }
      ]
    }
  ]
}